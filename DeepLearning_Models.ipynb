{
 "cells": [
  {
   "cell_type": "code",
   "execution_count": 8,
   "metadata": {},
   "outputs": [],
   "source": [
    "import torch\n",
    "import torch.nn as nn\n",
    "import torch.nn.functional as F\n",
    "import torch.optim as optim\n",
    "\n",
    "import torchvision\n",
    "import torchvision.transforms as transforms\n",
    "\n",
    "torch.set_printoptions(linewidth=120)\n",
    "torch.set_grad_enabled(True)\n",
    "\n",
    "def get_num_correct(preds, labels):\n",
    "      return preds.argmax(dim=1).eq(labels).sum().item()\n",
    "    \n",
    "\n",
    "class Network(nn.Module):\n",
    "      def __init__(self):\n",
    "            super().__init__()\n",
    "            self.conv1=nn.Conv2d(in_channels=1, out_channels=12, kernel_size=5)\n",
    "            self.conv2=nn.Conv2d(in_channels=12, out_channels=24, kernel_size=5)\n",
    "\n",
    "            self.fc1=nn.Linear(in_features=24*4*4, out_features=120)\n",
    "            self.fc2=nn.Linear(in_features=120, out_features=60)\n",
    "            self.out=nn.Linear(in_features=60, out_features=10)\n",
    "\n",
    "      def forward(self, t):\n",
    "\n",
    "            t=F.relu(self.conv1(t))\n",
    "            t=F.max_pool2d(t, kernel_size=2, stride=2)\n",
    "\n",
    "            t=F.relu(self.conv2(t))\n",
    "            t=F.max_pool2d(t, kernel_size=2, stride=2)\n",
    "\n",
    "            t=t.reshape(-1,24*4*4)\n",
    "            t=F.relu(self.fc1(t))\n",
    "\n",
    "            t=F.relu(self.fc2(t))\n",
    "\n",
    "            t=self.out(t)\n",
    "\n",
    "            return t"
   ]
  },
  {
   "cell_type": "code",
   "execution_count": 9,
   "metadata": {},
   "outputs": [],
   "source": [
    "train_set = torchvision.datasets.FashionMNIST(\n",
    "    root='./data'\n",
    "    ,train=True\n",
    "    ,download=True\n",
    "    ,transform=transforms.Compose([\n",
    "                                   transforms.ToTensor()\n",
    "    ])\n",
    ")"
   ]
  },
  {
   "cell_type": "code",
   "execution_count": 14,
   "metadata": {},
   "outputs": [
    {
     "name": "stdout",
     "output_type": "stream",
     "text": [
      "epoch: 1 total correct: 48418 loss: 311.9055641889572\n",
      "epoch: 2 total correct: 51942 loss: 218.50904667377472\n",
      "epoch: 3 total correct: 52466 loss: 204.573945119977\n",
      "epoch: 4 total correct: 52775 loss: 195.31469969451427\n",
      "epoch: 5 total correct: 53025 loss: 189.09671062231064\n",
      "Percentage Accuracy :  0.88375\n"
     ]
    }
   ],
   "source": [
    "network = Network()#instance created\n",
    "\n",
    "train_loader = torch.utils.data.DataLoader(train_set, batch_size=100)# batches formed\n",
    "optimizer = optim.Adam(network.parameters(), lr=0.01)# values feeded to the parameter\n",
    "\n",
    "for epoch in range(5):# running through 5 epochs\n",
    "\n",
    "    total_loss = 0\n",
    "    total_correct = 0 # to find how many correct predictions does our model make in each epoch seperately\n",
    "\n",
    "\n",
    "    for batch in train_loader: #transversing through the train_loader which is the superset of our batch data\n",
    "          images, labels = batch # Spliting up the batch\n",
    "\n",
    "          preds = network(images)#feeding network with images\n",
    "          loss = F.cross_entropy(preds, labels)# using cross_entropy method to calculate the loss\n",
    "\n",
    "          optimizer.zero_grad()# setting gradiets back to zero so that they dont add up each time\n",
    "          loss.backward()# starts the backpropogation algo\n",
    "          optimizer.step() # updates the weights\n",
    "\n",
    "          total_loss += loss.item()# sums up the losses\n",
    "          total_correct += get_num_correct(preds, labels)# sums up the number of correct predinctions \n",
    "\n",
    "          \n",
    "    print(\"epoch:\", (epoch+1), \"total correct:\", total_correct, \"loss:\", total_loss)# prints the progress report of each epoch\n",
    "print(\"Percentage Accuracy : \", total_correct/len(train_set))# tells us the accuracy of the model created after running through all the epochs"
   ]
  }
 ],
 "metadata": {
  "kernelspec": {
   "display_name": "Python 3",
   "language": "python",
   "name": "python3"
  },
  "language_info": {
   "codemirror_mode": {
    "name": "ipython",
    "version": 3
   },
   "file_extension": ".py",
   "mimetype": "text/x-python",
   "name": "python",
   "nbconvert_exporter": "python",
   "pygments_lexer": "ipython3",
   "version": "3.8.5"
  }
 },
 "nbformat": 4,
 "nbformat_minor": 4
}
