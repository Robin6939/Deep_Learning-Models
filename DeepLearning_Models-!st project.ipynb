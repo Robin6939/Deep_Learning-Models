{
 "cells": [
  {
   "cell_type": "code",
   "execution_count": 8,
   "metadata": {},
   "outputs": [],
   "source": [
    "#First deep learning model build by me on 11th of May 2021(Complete date)\n",
    "\n",
    "\n",
    "import torch\n",
    "import torch.nn as nn\n",
    "import torch.nn.functional as F\n",
    "import torch.optim as optim\n",
    "\n",
    "import torchvision\n",
    "import torchvision.transforms as transforms\n",
    "\n",
    "torch.set_printoptions(linewidth=120)\n",
    "torch.set_grad_enabled(True)\n",
    "\n",
    "def get_num_correct(preds, labels):\n",
    "      return preds.argmax(dim=1).eq(labels).sum().item()\n",
    "    \n",
    "\n",
    "class Network(nn.Module):\n",
    "      def __init__(self):\n",
    "            super().__init__()\n",
    "            self.conv1=nn.Conv2d(in_channels=1, out_channels=6, kernel_size=5)\n",
    "            self.conv2=nn.Conv2d(in_channels=6, out_channels=12, kernel_size=5)\n",
    "\n",
    "            self.fc1=nn.Linear(in_features=12*4*4, out_features=120)\n",
    "            self.fc2=nn.Linear(in_features=120, out_features=60)\n",
    "            self.out=nn.Linear(in_features=60, out_features=10)\n",
    "\n",
    "      def forward(self, t):\n",
    "\n",
    "            t=F.relu(self.conv1(t))\n",
    "            t=F.max_pool2d(t, kernel_size=2, stride=2)\n",
    "\n",
    "            t=F.relu(self.conv2(t))\n",
    "            t=F.max_pool2d(t, kernel_size=2, stride=2)\n",
    "\n",
    "            t=t.reshape(-1,12*4*4)\n",
    "            t=F.relu(self.fc1(t))\n",
    "\n",
    "            t=F.relu(self.fc2(t))\n",
    "\n",
    "            t=self.out(t)\n",
    "\n",
    "            return t"
   ]
  },
  {
   "cell_type": "code",
   "execution_count": 5,
   "metadata": {},
   "outputs": [],
   "source": [
    "train_set = torchvision.datasets.FashionMNIST(\n",
    "    root='./data/FashionMNIST'\n",
    "    ,train=True\n",
    "    ,download=True\n",
    "    ,transform=transforms.Compose([\n",
    "                                   transforms.ToTensor()\n",
    "    ])\n",
    ")"
   ]
  },
  {
   "cell_type": "code",
   "execution_count": 10,
   "metadata": {},
   "outputs": [
    {
     "name": "stdout",
     "output_type": "stream",
     "text": [
      "epoch: 0 total correct: 46658 loss: 350.0202030688524\n",
      "epoch: 1 total correct: 51065 loss: 242.32577665150166\n",
      "epoch: 2 total correct: 51805 loss: 221.33545000851154\n",
      "epoch: 3 total correct: 52083 loss: 209.9157918691635\n",
      "epoch: 4 total correct: 52342 loss: 204.13328176736832\n"
     ]
    }
   ],
   "source": [
    "network = Network()\n",
    "\n",
    "train_loader = torch.utils.data.DataLoader(train_set, batch_size=100)\n",
    "optimizer = optim.Adam(network.parameters(), lr=0.01)\n",
    "\n",
    "for epoch in range(5):\n",
    "\n",
    "    total_loss = 0\n",
    "    total_correct = 0\n",
    "\n",
    "\n",
    "    for batch in train_loader:\n",
    "          images, labels = batch\n",
    "\n",
    "          preds = network(images)\n",
    "          loss = F.cross_entropy(preds, labels)\n",
    "\n",
    "          optimizer.zero_grad()\n",
    "          loss.backward()\n",
    "          optimizer.step()\n",
    "\n",
    "          total_loss += loss.item()\n",
    "          total_correct += get_num_correct(preds, labels)\n",
    "\n",
    "          \n",
    "    print(\"epoch:\", epoch, \"total correct:\", total_correct, \"loss:\", total_loss)"
   ]
  },
  {
   "cell_type": "code",
   "execution_count": null,
   "metadata": {},
   "outputs": [],
   "source": [
    "for batch in train_loader:\n",
    "          images, labels = batch\n",
    "\n",
    "          preds = network(images)\n",
    "          loss = F.cross_entropy(preds, labels)\n",
    "\n",
    "          optimizer.zero_grad()\n",
    "          loss.backward()\n",
    "          optimizer.step()\n",
    "\n",
    "          total_loss += loss.item()\n",
    "          total_correct += get_num_correct(preds, labels)\n",
    "\n",
    "          \n",
    "    print(\"epoch:\", 0, \"total correct:\", total_correct, \"loss:\", total_loss)"
   ]
  }
 ],
 "metadata": {
  "kernelspec": {
   "display_name": "Python 3",
   "language": "python",
   "name": "python3"
  },
  "language_info": {
   "codemirror_mode": {
    "name": "ipython",
    "version": 3
   },
   "file_extension": ".py",
   "mimetype": "text/x-python",
   "name": "python",
   "nbconvert_exporter": "python",
   "pygments_lexer": "ipython3",
   "version": "3.8.5"
  }
 },
 "nbformat": 4,
 "nbformat_minor": 4
}
