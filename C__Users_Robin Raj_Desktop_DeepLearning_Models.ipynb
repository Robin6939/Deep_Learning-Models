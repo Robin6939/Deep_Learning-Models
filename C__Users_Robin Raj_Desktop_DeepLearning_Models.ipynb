{
 "cells": [
  {
   "cell_type": "code",
   "execution_count": 52,
   "metadata": {},
   "outputs": [],
   "source": [
    "import torch\n",
    "import torch.nn as nn\n",
    "import torch.nn.functional as F\n",
    "import torch.optim as optim\n",
    "\n",
    "import torchvision\n",
    "import torchvision.transforms as transforms\n",
    "\n",
    "torch.set_printoptions(linewidth=120)\n",
    "torch.set_grad_enabled(True)\n",
    "\n",
    "def get_num_correct(preds, labels):\n",
    "      return preds.argmax(dim=1).eq(labels).sum().item()\n",
    "    \n",
    "\n",
    "class Network(nn.Module):\n",
    "      def __init__(self):\n",
    "            super().__init__()\n",
    "            self.conv1=nn.Conv2d(in_channels=1, out_channels=12, kernel_size=5)#28-4=24-1=23\n",
    "            self.conv2=nn.Conv2d(in_channels=12, out_channels=24, kernel_size=5)#23-4=19-1=18\n",
    "            self.conv3=nn.Conv2d(in_channels=24, out_channels=48, kernel_size=5)#18-4=14--->7\n",
    "\n",
    "            self.fc1=nn.Linear(in_features=48*7*7, out_features=240)\n",
    "            self.fc2=nn.Linear(in_features=240, out_features=120)\n",
    "            self.fc3=nn.Linear(in_features=120, out_features=60)\n",
    "            self.out=nn.Linear(in_features=60, out_features=10)\n",
    "\n",
    "      def forward(self, t):\n",
    "\n",
    "            t=F.relu(self.conv1(t))\n",
    "            t=F.max_pool2d(t, kernel_size=2, stride=1)\n",
    "\n",
    "            t=F.relu(self.conv2(t))\n",
    "            t=F.max_pool2d(t, kernel_size=2, stride=1)\n",
    "            \n",
    "            t=F.relu(self.conv3(t))\n",
    "            t=F.max_pool2d(t, kernel_size=2, stride=2)\n",
    "\n",
    "            t=t.reshape(-1,48*7*7)\n",
    "            t=F.relu(self.fc1(t))\n",
    "\n",
    "            t=F.relu(self.fc2(t))\n",
    "            \n",
    "            t=F.relu(self.fc3(t))\n",
    "\n",
    "            t=self.out(t)\n",
    "\n",
    "            return t\n",
    "        \n",
    "        \n",
    "train_set = torchvision.datasets.FashionMNIST(\n",
    "    root='./data/FashionMNIST'\n",
    "    ,train=True\n",
    "    ,download=True\n",
    "    ,transform=transforms.Compose([\n",
    "                                   transforms.ToTensor()\n",
    "    ])\n",
    ")"
   ]
  },
  {
   "cell_type": "code",
   "execution_count": 53,
   "metadata": {},
   "outputs": [
    {
     "name": "stdout",
     "output_type": "stream",
     "text": [
      "epoch: 0 total correct: 43750 loss: 423.6853380203247\n",
      "epoch: 1 total correct: 50228 loss: 265.65363985300064\n",
      "epoch: 2 total correct: 50934 loss: 246.31617929041386\n",
      "epoch: 3 total correct: 51289 loss: 238.41388738155365\n",
      "epoch: 4 total correct: 51416 loss: 234.15853591263294\n"
     ]
    }
   ],
   "source": [
    "network = Network()\n",
    "\n",
    "train_loader = torch.utils.data.DataLoader(train_set, batch_size=100)\n",
    "optimizer = optim.Adam(network.parameters(), lr=0.01)\n",
    "\n",
    "for epoch in range(5):\n",
    "\n",
    "    total_loss = 0\n",
    "    total_correct = 0\n",
    "\n",
    "\n",
    "    for batch in train_loader:\n",
    "          images, labels = batch\n",
    "\n",
    "          preds = network(images)\n",
    "          loss = F.cross_entropy(preds, labels)\n",
    "\n",
    "          optimizer.zero_grad()\n",
    "          loss.backward()\n",
    "          optimizer.step()\n",
    "\n",
    "          total_loss += loss.item()\n",
    "          total_correct += get_num_correct(preds, labels)\n",
    "\n",
    "          \n",
    "    print(\"epoch:\", epoch, \"total correct:\", total_correct, \"loss:\", total_loss)"
   ]
  },
  {
   "cell_type": "code",
   "execution_count": 49,
   "metadata": {},
   "outputs": [
    {
     "data": {
      "text/plain": [
       "0.86345"
      ]
     },
     "execution_count": 49,
     "metadata": {},
     "output_type": "execute_result"
    }
   ],
   "source": [
    "total_correct/60000"
   ]
  }
 ],
 "metadata": {
  "kernelspec": {
   "display_name": "Python 3",
   "language": "python",
   "name": "python3"
  },
  "language_info": {
   "codemirror_mode": {
    "name": "ipython",
    "version": 3
   },
   "file_extension": ".py",
   "mimetype": "text/x-python",
   "name": "python",
   "nbconvert_exporter": "python",
   "pygments_lexer": "ipython3",
   "version": "3.8.5"
  }
 },
 "nbformat": 4,
 "nbformat_minor": 4
}
